{
 "cells": [
  {
   "cell_type": "code",
   "execution_count": 1,
   "id": "160d085f-fc72-40a2-bf7a-7a2df66bf6c2",
   "metadata": {},
   "outputs": [],
   "source": [
    "import pydot"
   ]
  },
  {
   "cell_type": "code",
   "execution_count": 9,
   "id": "0b237091-3225-45eb-a155-d1618d4b5a12",
   "metadata": {},
   "outputs": [],
   "source": [
    "g = pydot.Dot(graph_type='graph')\n",
    "word = \"QUESTIONABLE\"\n",
    "names = [str(i) for i in range(len(word))]\n",
    "labels = [ch for ch in word]\n",
    "for name,label in zip(names,labels):\n",
    "    g.add_node(pydot.Node(name,label=label))\n",
    "for i in range(len(word)//2):\n",
    "    g.add_edge(pydot.Edge(names[i],names[2*i+1]))\n",
    "    if 2*i+2 < len(word):\n",
    "        g.add_edge(pydot.Edge(names[i],names[2*i+2]))\n",
    "g.write_png('output/pydot output.png')"
   ]
  },
  {
   "cell_type": "code",
   "execution_count": null,
   "id": "f30df852-c3dd-435a-9ea0-b348203c6cb4",
   "metadata": {},
   "outputs": [],
   "source": []
  }
 ],
 "metadata": {
  "kernelspec": {
   "display_name": "Python 3.8.13 ('myenv')",
   "language": "python",
   "name": "python3"
  },
  "language_info": {
   "codemirror_mode": {
    "name": "ipython",
    "version": 3
   },
   "file_extension": ".py",
   "mimetype": "text/x-python",
   "name": "python",
   "nbconvert_exporter": "python",
   "pygments_lexer": "ipython3",
   "version": "3.8.13"
  },
  "vscode": {
   "interpreter": {
    "hash": "0f949023e22fc223d05ff4ad0c4b77cb805b04951b38b35fe9c48ac03e4aa352"
   }
  }
 },
 "nbformat": 4,
 "nbformat_minor": 5
}
